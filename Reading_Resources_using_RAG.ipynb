{
  "nbformat": 4,
  "nbformat_minor": 0,
  "metadata": {
    "colab": {
      "provenance": [],
      "authorship_tag": "ABX9TyMOc82Krgjt+eabAOHJFEXZ",
      "include_colab_link": true
    },
    "kernelspec": {
      "name": "python3",
      "display_name": "Python 3"
    },
    "language_info": {
      "name": "python"
    }
  },
  "cells": [
    {
      "cell_type": "markdown",
      "metadata": {
        "id": "view-in-github",
        "colab_type": "text"
      },
      "source": [
        "<a href=\"https://colab.research.google.com/github/aaronmat1905/DataCraftorPlayground/blob/main/Reading_Resources_using_RAG.ipynb\" target=\"_parent\"><img src=\"https://colab.research.google.com/assets/colab-badge.svg\" alt=\"Open In Colab\"/></a>"
      ]
    },
    {
      "cell_type": "markdown",
      "source": [
        "**Reading Resources using RAG**\n",
        "> for Lectify.ai\n",
        "\n",
        "> AaronTM"
      ],
      "metadata": {
        "id": "lzuDv36Vj2cH"
      }
    },
    {
      "cell_type": "code",
      "execution_count": null,
      "metadata": {
        "id": "hej464PCiolh"
      },
      "outputs": [],
      "source": []
    }
  ]
}